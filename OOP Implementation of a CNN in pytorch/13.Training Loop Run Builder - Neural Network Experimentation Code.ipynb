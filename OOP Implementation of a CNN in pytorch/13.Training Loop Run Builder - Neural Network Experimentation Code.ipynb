{
 "metadata": {
  "language_info": {
   "codemirror_mode": {
    "name": "ipython",
    "version": 3
   },
   "file_extension": ".py",
   "mimetype": "text/x-python",
   "name": "python",
   "nbconvert_exporter": "python",
   "pygments_lexer": "ipython3",
   "version": "3.8.3-final"
  },
  "orig_nbformat": 2,
  "kernelspec": {
   "name": "python_defaultSpec_1599393470389",
   "display_name": "Python 3.8.3 64-bit"
  }
 },
 "nbformat": 4,
 "nbformat_minor": 2,
 "cells": [
  {
   "cell_type": "code",
   "execution_count": 39,
   "metadata": {},
   "outputs": [],
   "source": [
    "import torch\n",
    "import torch.nn as nn\n",
    "import torch.nn.functional as F\n",
    "import torch.optim as optim \n",
    "\n",
    "import torchvision\n",
    "import torchvision.transforms as transforms\n",
    "\n",
    "torch.set_printoptions(linewidth = 120) \n",
    "torch.set_grad_enabled(True) \n",
    "\n",
    "from itertools import product #computes cartesian product given multiple list inputs  \n",
    "from torch.utils.tensorboard import SummaryWriter #allows to send data to tensorboard files \n",
    "\n",
    "from collections import OrderedDict\n",
    "from collections import namedtuple\n",
    "from itertools import product"
   ]
  },
  {
   "cell_type": "code",
   "execution_count": 40,
   "metadata": {},
   "outputs": [],
   "source": [
    "#Build a runbuilder class that'll build sets of parameters for runs "
   ]
  },
  {
   "cell_type": "code",
   "execution_count": 41,
   "metadata": {},
   "outputs": [],
   "source": [
    "class RunBuilder():\n",
    "    @staticmethod #The main thing to note about using this class is that it has a static method called get_runs(). This method will get the runs for us that it builds based on the parameters we pass in.\n",
    "    def get_runs(params):\n",
    "\n",
    "        Run = namedtuple('Run', params.keys())\n",
    "\n",
    "        runs = []\n",
    "        for v in product(*params.values()):\n",
    "            runs.append(Run(*v))\n",
    "\n",
    "        return runs\n",
    "        "
   ]
  },
  {
   "cell_type": "code",
   "execution_count": 42,
   "metadata": {},
   "outputs": [],
   "source": [
    "params = OrderedDict(\n",
    "    lr = [.01, .001]\n",
    "    ,batch_size = [1000, 10000]\n",
    "    ,device = ['cuda','cpu']\n",
    ")"
   ]
  },
  {
   "cell_type": "code",
   "execution_count": 57,
   "metadata": {},
   "outputs": [
    {
     "output_type": "execute_result",
     "data": {
      "text/plain": "[Run(lr=0.01, batch_size=1000),\n Run(lr=0.01, batch_size=10000),\n Run(lr=0.001, batch_size=1000),\n Run(lr=0.001, batch_size=10000)]"
     },
     "metadata": {},
     "execution_count": 57
    }
   ],
   "source": [
    "runs = RunBuilder.get_runs(params) #get_runs function from the parameter class\n",
    "runs "
   ]
  },
  {
   "cell_type": "code",
   "execution_count": 44,
   "metadata": {},
   "outputs": [
    {
     "output_type": "execute_result",
     "data": {
      "text/plain": "Run(lr=0.01, batch_size=1000, device='cuda')"
     },
     "metadata": {},
     "execution_count": 44
    }
   ],
   "source": [
    "run = runs[0] #it is a tuple \n",
    "run"
   ]
  },
  {
   "cell_type": "code",
   "execution_count": 45,
   "metadata": {
    "tags": []
   },
   "outputs": [
    {
     "output_type": "stream",
     "name": "stdout",
     "text": "0.01 1000 cuda\n"
    }
   ],
   "source": [
    "print(run.lr, run.batch_size, run.device)"
   ]
  },
  {
   "cell_type": "code",
   "execution_count": 46,
   "metadata": {
    "tags": []
   },
   "outputs": [
    {
     "output_type": "stream",
     "name": "stdout",
     "text": "Run(lr=0.01, batch_size=1000, device='cuda') 0.01 1000 cuda\nRun(lr=0.01, batch_size=1000, device='cpu') 0.01 1000 cpu\nRun(lr=0.01, batch_size=10000, device='cuda') 0.01 10000 cuda\nRun(lr=0.01, batch_size=10000, device='cpu') 0.01 10000 cpu\nRun(lr=0.001, batch_size=1000, device='cuda') 0.001 1000 cuda\nRun(lr=0.001, batch_size=1000, device='cpu') 0.001 1000 cpu\nRun(lr=0.001, batch_size=10000, device='cuda') 0.001 10000 cuda\nRun(lr=0.001, batch_size=10000, device='cpu') 0.001 10000 cpu\n"
    }
   ],
   "source": [
    "for run in runs:\n",
    "    print(run, run.lr, run.batch_size, run.device)"
   ]
  },
  {
   "cell_type": "markdown",
   "metadata": {},
   "source": [
    "# Building the runbuilder class"
   ]
  },
  {
   "cell_type": "code",
   "execution_count": 47,
   "metadata": {},
   "outputs": [],
   "source": [
    "params = OrderedDict(\n",
    "    lr = [.01, .001]\n",
    "    ,batch_size = [1000, 10000]   \n",
    ")"
   ]
  },
  {
   "cell_type": "code",
   "execution_count": 59,
   "metadata": {},
   "outputs": [
    {
     "output_type": "execute_result",
     "data": {
      "text/plain": "odict_keys(['lr', 'batch_size'])"
     },
     "metadata": {},
     "execution_count": 59
    }
   ],
   "source": [
    "params.keys()"
   ]
  },
  {
   "cell_type": "code",
   "execution_count": 60,
   "metadata": {},
   "outputs": [
    {
     "output_type": "execute_result",
     "data": {
      "text/plain": "odict_values([[0.01, 0.001], [1000, 10000]])"
     },
     "metadata": {},
     "execution_count": 60
    }
   ],
   "source": [
    "params.values()"
   ]
  },
  {
   "cell_type": "markdown",
   "metadata": {},
   "source": [
    "Now we use keys and values for the next step"
   ]
  },
  {
   "cell_type": "code",
   "execution_count": 61,
   "metadata": {},
   "outputs": [],
   "source": [
    "Run = namedtuple('Run', params.keys()) #tuple subclass called run that has named fields  \n",
    "#passing class names and fields names (keys of dict here )\n",
    "#This line creates a new tuple subclass called Run that has named fields. This Run class is used to encapsulate the data for each of our runs. The field names of this class are set by the list of names passed to the constructor.\n",
    "#First class name is passed and then field names are passed  "
   ]
  },
  {
   "cell_type": "code",
   "execution_count": 62,
   "metadata": {},
   "outputs": [
    {
     "output_type": "execute_result",
     "data": {
      "text/plain": "[Run(lr=0.01, batch_size=1000),\n Run(lr=0.01, batch_size=10000),\n Run(lr=0.001, batch_size=1000),\n Run(lr=0.001, batch_size=10000)]"
     },
     "metadata": {},
     "execution_count": 62
    }
   ],
   "source": [
    "runs = [] #list called runs \n",
    "\n",
    "for v in product(*params.values()): #creates cartesian prod using values in dict #we use the product() function from itertools to create the Cartesian product using the values for each parameter inside our dictionary. This gives us a set of ordered pairs that define our runs. We iterate over these adding a run to the runs list for each one.\n",
    "    runs.append(Run(*v)) #*star to say accept tuple values instead of tuple itself \n",
    "runs "
   ]
  },
  {
   "cell_type": "code",
   "execution_count": 52,
   "metadata": {},
   "outputs": [],
   "source": [
    "#Since the get_runs() method is static, we can call it using the class itself. We don’t need an instance of the class."
   ]
  },
  {
   "cell_type": "code",
   "execution_count": 66,
   "metadata": {},
   "outputs": [],
   "source": [
    "#get runs is static so can be called by classs itself \n",
    "#we dont need instance of class to specify a method \n",
    "\n",
    "class RunBuilder():\n",
    "    @staticmethod #The main thing to note about using this class is that it has a static method called get_runs(). This method will get the runs for us that it builds based on the parameters we pass in.\n",
    "    def get_runs(params):\n",
    "\n",
    "        Run = namedtuple('Run', params.keys())\n",
    "\n",
    "        runs = []\n",
    "        for v in product(*params.values()):\n",
    "            runs.append(Run(*v))\n",
    "\n",
    "        return runs\n",
    "        "
   ]
  },
  {
   "cell_type": "code",
   "execution_count": 84,
   "metadata": {},
   "outputs": [],
   "source": [
    "\n",
    "#BEFORE : \n",
    "for lr, batch_size in product(*params.values()):\n",
    "    comment = f'batch_size = {batch_size} lr = {lr}'\n",
    "\n",
    "#AFTER :\n",
    "for run in RunBuilder.get_runs(params):\n",
    "    comment = f'-{run}'\n",
    "\n",
    "    # Training process given the set of parameters"
   ]
  },
  {
   "cell_type": "code",
   "execution_count": null,
   "metadata": {},
   "outputs": [],
   "source": []
  }
 ]
}